{
 "cells": [
  {
   "cell_type": "markdown",
   "metadata": {},
   "source": [
    "Import the NumPy library and assign to the alias np.\n",
    "Use the numpy.genfromtxt() function to read the nyc_taxis.csv file into NumPy. Assign the result to taxi.\n",
    "Use the ndarray.shape attribute to assign the shape of taxi to taxi_shape.\n",
    "Use the variable inspector under the code box to view the taxi ndarray and its shape after running your code."
   ]
  },
  {
   "cell_type": "code",
   "execution_count": 2,
   "metadata": {},
   "outputs": [
    {
     "name": "stdout",
     "output_type": "stream",
     "text": [
      "float64\n"
     ]
    }
   ],
   "source": [
    "# np.genfromtxt(filename, delimiter=None)\n",
    "# data = np.genfromtxt('data.csv', delimiter=',') # In this case, because we have a CSV file, the delimiter is a comma\n",
    "\n",
    "import numpy as np\n",
    "\n",
    "taxi = np.genfromtxt(\"nyc_taxis.csv\", delimiter = \",\")\n",
    "\n",
    "taxi_shape = taxi.shape\n",
    "\n",
    "print(taxi.dtype)\n"
   ]
  },
  {
   "cell_type": "markdown",
   "metadata": {},
   "source": [
    "Use the numpy.genfromtxt() function to again read the nyc_taxis.csv file into NumPy, but this time, skip the first row. Assign the result to taxi.\n",
    "Assign the shape of taxi to taxi_shape.\n",
    "Use the variable inspector under the code box to view the taxi ndarray and its shape after you have run your code.\n"
   ]
  },
  {
   "cell_type": "code",
   "execution_count": 5,
   "metadata": {},
   "outputs": [
    {
     "name": "stdout",
     "output_type": "stream",
     "text": [
      "(89560, 15)\n"
     ]
    }
   ],
   "source": [
    "taxi = np.genfromtxt('nyc_taxis.csv', delimiter=',', skip_header=1)\n",
    "taxi_shape = taxi.shape\n",
    "\n",
    "print(taxi_shape)"
   ]
  },
  {
   "cell_type": "markdown",
   "metadata": {},
   "source": [
    "Use vectorized boolean operations to:\n",
    "Evaluate whether the elements in array a are less than 3. Assign the result to a_bool.\n",
    "Evaluate whether the elements in array b are equal to \"blue\". Assign the result to b_bool.\n",
    "Evaluate whether the elements in array c are greater than 100. Assign the result to c_bool.\n",
    "Once you've run your code, use the variable inspector below the code box to view each boolean array."
   ]
  },
  {
   "cell_type": "code",
   "execution_count": 8,
   "metadata": {},
   "outputs": [
    {
     "name": "stdout",
     "output_type": "stream",
     "text": [
      "[ True  True False False False]\n",
      "[ True  True False  True]\n",
      "[False  True False  True]\n"
     ]
    }
   ],
   "source": [
    "a = np.array([1, 2, 3, 4, 5])\n",
    "b = np.array([\"blue\", \"blue\", \"red\", \"blue\"])\n",
    "c = np.array([80.0, 103.4, 96.9, 200.3])\n",
    "\n",
    "a_bool = a < 3\n",
    "b_bool = b == 'blue'\n",
    "c_bool = c > 100\n",
    "\n",
    "\n",
    "\n",
    "print(a_bool)\n",
    "print(b_bool)\n",
    "print(c_bool)"
   ]
  },
  {
   "cell_type": "markdown",
   "metadata": {},
   "source": [
    "Calculate the number of rides in the taxi ndarray that are from February:\n",
    "Create a boolean array, february_bool, that evaluates whether the items in pickup_month are equal to 2.\n",
    "Use the february_bool boolean array to index pickup_month. Assign the result to february.\n",
    "Use the ndarray.shape attribute to find the number of items in february. Assign the result to february_rides.\n",
    "Once you have run your code, use the variable inspector to view the number of rides for February."
   ]
  },
  {
   "cell_type": "code",
   "execution_count": 9,
   "metadata": {},
   "outputs": [],
   "source": [
    "pickup_month = taxi[:,1]\n",
    "\n",
    "january_bool = pickup_month == 1\n",
    "january = pickup_month[january_bool]\n",
    "january_rides = january.shape[0]\n",
    "\n",
    "february_bool = pickup_month == 2\n",
    "february = pickup_month[february_bool]\n",
    "february_rides = february.shape[0]\n",
    "\n",
    "\n",
    "#R feb_bool <- taxi$pickup_month == 2\n",
    "#R output <- taxi$pickup_month[feb_bool]\n",
    "\n",
    "#R output1 <- taxi$pickup_month[taxi$pickup_month==2]\n",
    "\n"
   ]
  },
  {
   "cell_type": "markdown",
   "metadata": {},
   "source": [
    "Create a boolean array, tip_bool, that determines which rows have values for the tip_amount column of more than 50.\n",
    "Use the tip_bool array to select all rows from taxi with values tip amounts of more than 50, and the columns from indexes 5 to 13 inclusive. Assign the resulting array to top_tips."
   ]
  },
  {
   "cell_type": "code",
   "execution_count": 10,
   "metadata": {},
   "outputs": [],
   "source": [
    "tip_amount = taxi[:,12]\n",
    "\n",
    "tip_bool = tip_amount > 50\n",
    "top_tips = taxi[tip_bool,5:14]"
   ]
  },
  {
   "cell_type": "code",
   "execution_count": 12,
   "metadata": {},
   "outputs": [],
   "source": [
    "# this creates a copy of our taxi ndarray\n",
    "taxi_modified = taxi.copy()\n",
    "\n",
    "taxi_modified[28214,5] = 1\n",
    "taxi_modified[:,0] = 16\n",
    "taxi_modified[1800:1802,7] = taxi_modified[:,7].mean()"
   ]
  },
  {
   "cell_type": "markdown",
   "metadata": {},
   "source": [
    "We again used the ndarray.copy() method to make taxi_copy, a copy of our original for this exercise.\n",
    "\n",
    "Select the fourteenth column (index 13) in taxi_copy. Assign it to a variable named total_amount.\n",
    "For rows where the value of total_amount is less than 0, use assignment to change the value to 0."
   ]
  },
  {
   "cell_type": "code",
   "execution_count": 19,
   "metadata": {},
   "outputs": [],
   "source": [
    "# this creates a copy of our taxi ndarray\n",
    "taxi_copy = taxi.copy()\n",
    "total_amount = taxi_copy[:,13]\n",
    "total_amount[total_amount < 0] = 0"
   ]
  },
  {
   "cell_type": "markdown",
   "metadata": {},
   "source": [
    "We have created a new copy of our taxi dataset, taxi_modified with an additional column containing the value 0 for every row.\n",
    "\n",
    "In our new column at index 15, assign the value 1 if the pickup_location_code (column index 5) corresponds to an airport location, leaving the value as 0 otherwise by performing these three operations:\n",
    "For rows where the value for the column index 5 is equal to 2 (JFK Airport), assign the value 1 to column index 15.\n",
    "For rows where the value for the column index 5 is equal to 3 (LaGuardia Airport), assign the value 1 to column index 15.\n",
    "For rows where the value for the column index 5 is equal to 5 (Newark Airport), assign the value 1 to column index 15."
   ]
  },
  {
   "cell_type": "code",
   "execution_count": 24,
   "metadata": {},
   "outputs": [
    {
     "name": "stdout",
     "output_type": "stream",
     "text": [
      "[[2.016e+03 1.000e+00 1.000e+00 ... 6.999e+01 1.000e+00 0.000e+00]\n",
      " [2.016e+03 1.000e+00 1.000e+00 ... 5.430e+01 1.000e+00 0.000e+00]\n",
      " [2.016e+03 1.000e+00 1.000e+00 ... 3.780e+01 2.000e+00 0.000e+00]\n",
      " ...\n",
      " [2.016e+03 6.000e+00 3.000e+01 ... 6.334e+01 1.000e+00 0.000e+00]\n",
      " [2.016e+03 6.000e+00 3.000e+01 ... 4.475e+01 1.000e+00 0.000e+00]\n",
      " [2.016e+03 6.000e+00 3.000e+01 ... 5.484e+01 2.000e+00 0.000e+00]]\n"
     ]
    }
   ],
   "source": [
    "# create a new column filled with `0`.\n",
    "zeros = np.zeros([taxi.shape[0], 1])\n",
    "taxi_modified = np.concatenate([taxi, zeros], axis=1)\n",
    "print(taxi_modified)\n",
    "\n",
    "# array[array[:, column_for_COMPARISON] == value_for_COMPARISON, column_for_ASSIGNMENT OF NEW VALUE] = new_value\n",
    "\n",
    "taxi_modified[taxi_modified[:,5] == 2, 15] = 1\n",
    "taxi_modified[taxi_modified[:,5] == 3, 15] = 1\n",
    "taxi_modified[taxi_modified[:,5] == 5, 15] = 1"
   ]
  },
  {
   "cell_type": "markdown",
   "metadata": {},
   "source": [
    "Using the original taxi ndarray, calculate how many trips had JFK Airport as their destination:\n",
    "Use boolean indexing to select only the rows where the dropoff_location_code column (column index 6) has a value that corresponds to JFK. Assign the result to jfk.\n",
    "Calculate how many rows are in the new jfk array and assign the result to jfk_count.\n",
    "Calculate how many trips from taxi had Laguardia Airport as their destination:\n",
    "Use boolean indexing to select only the rows where the dropoff_location_code column (column index 6) has a value that corresponds to Laguardia. Assign the result to laguardia.\n",
    "Calculate how many rows are in the new laguardia array. Assign the result to laguardia_count.\n",
    "Calculate how many trips from taxi had Newark Airport as their destination:\n",
    "Select only the rows where the dropoff_location_code column has a value that corresponds to Newark, and assign the result to newark.\n",
    "Calculate how many rows are in the new newark array and assign the result to newark_count.\n",
    "After you have run your code, inspect the values for jfk_count, laguardia_count, and newark_count and see which airport has the most dropoffs."
   ]
  },
  {
   "cell_type": "code",
   "execution_count": 29,
   "metadata": {},
   "outputs": [
    {
     "name": "stdout",
     "output_type": "stream",
     "text": [
      "11832\n",
      "16602\n",
      "63\n"
     ]
    }
   ],
   "source": [
    "jfk = taxi[taxi[:,6] == 2, 6]\n",
    "jfk_count = len(jfk)\n",
    "\n",
    "laguardia = taxi[taxi[:,6] == 3]\n",
    "laguardia_count = len(laguardia)\n",
    "\n",
    "newark = taxi[taxi[:,6] == 5, 6]\n",
    "newark_count = len(newark)\n",
    "\n",
    "print(jfk_count)\n",
    "print(laguardia_count)\n",
    "print(newark_count)"
   ]
  },
  {
   "cell_type": "code",
   "execution_count": 31,
   "metadata": {
    "scrolled": true
   },
   "outputs": [
    {
     "name": "stdout",
     "output_type": "stream",
     "text": [
      "11832\n",
      "16602\n",
      "63\n"
     ]
    }
   ],
   "source": [
    "jfk = taxi[taxi[:,6] == 2]\n",
    "jfk_count = jfk.shape[0]\n",
    "\n",
    "laguardia = taxi[taxi[:,6] == 3]\n",
    "laguardia_count = laguardia.shape[0]\n",
    "\n",
    "newark = taxi[taxi[:,6] == 5]\n",
    "newark_count = newark.shape[0]\n",
    "\n",
    "print(jfk_count)\n",
    "print(laguardia_count)\n",
    "print(newark_count)"
   ]
  },
  {
   "cell_type": "code",
   "execution_count": 36,
   "metadata": {},
   "outputs": [],
   "source": [
    "trip_mph = taxi[:,7] / (taxi[:,8] / 3600)\n",
    "cleaned_taxi = taxi[trip_mph < 100]\n",
    "\n",
    "mean_distance = cleaned_taxi[:,7].mean()\n",
    "mean_length = cleaned_taxi[:,8].mean()\n",
    "mean_total_amount = cleaned_taxi[:,13].mean()"
   ]
  }
 ],
 "metadata": {
  "kernelspec": {
   "display_name": "Python 3",
   "language": "python",
   "name": "python3"
  },
  "language_info": {
   "codemirror_mode": {
    "name": "ipython",
    "version": 3
   },
   "file_extension": ".py",
   "mimetype": "text/x-python",
   "name": "python",
   "nbconvert_exporter": "python",
   "pygments_lexer": "ipython3",
   "version": "3.7.6"
  }
 },
 "nbformat": 4,
 "nbformat_minor": 4
}
