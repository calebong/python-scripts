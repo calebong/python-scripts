{
 "cells": [
  {
   "cell_type": "code",
   "execution_count": 9,
   "metadata": {},
   "outputs": [],
   "source": [
    "from csv import reader\n",
    "\n",
    "opened_file = open(\"artworks.csv\", encoding=\"utf8\")\n",
    "read_file = reader(opened_file)\n",
    "moma = list(read_file)\n",
    "moma = moma[1:]"
   ]
  },
  {
   "cell_type": "markdown",
   "metadata": {},
   "source": [
    "The MoMA data set is stored in a list of lists with the variable name moma.\n",
    "\n",
    "Use the len() function to count how many items (rows) are in the moma list of lists.\n",
    "Assign the result to a variable called num_rows."
   ]
  },
  {
   "cell_type": "code",
   "execution_count": 10,
   "metadata": {},
   "outputs": [
    {
     "name": "stdout",
     "output_type": "stream",
     "text": [
      "16729\n",
      "\n",
      "\n",
      "[['Dress MacLeod from Tartan Sets', 'Sarah Charlesworth', '(American)', '(1947)', '(2013)', '(Female)', '1986', 'Prints & Illustrated Books'], ['Duplicate of plate from folio 11 verso (supplementary suite, plate 4) from ARDICIA', 'Pablo Palazuelo', '(Spanish)', '(1916)', '(2007)', '(Male)', '1978', 'Prints & Illustrated Books'], ['Tailpiece (page 55) from SAGESSE', 'Maurice Denis', '(French)', '(1870)', '(1943)', '(Male)', '1889-1911', 'Prints & Illustrated Books'], ['Headpiece (page 129) from LIVRET DE FOLASTRIES, À JANOT PARISIEN', 'Aristide Maillol', '(French)', '(1861)', '(1944)', '(Male)', '1927-1940', 'Prints & Illustrated Books']]\n"
     ]
    }
   ],
   "source": [
    "num_rows = len(moma)\n",
    "print(num_rows)\n",
    "print('\\n')\n",
    "print(moma[:4])"
   ]
  },
  {
   "cell_type": "code",
   "execution_count": 11,
   "metadata": {},
   "outputs": [
    {
     "name": "stdout",
     "output_type": "stream",
     "text": [
      "I am thirty-two years old\n"
     ]
    }
   ],
   "source": [
    "age1 = \"I am thirty-one years old\"\n",
    "age2 = age1.replace(\"one\",\"two\")\n",
    "\n",
    "print(age2)\n",
    "\n",
    "\n",
    "\n",
    "#R age1 <- \"I am thirty-one years old\"\n",
    "#R age2 <- str_replace(age1,\"one\",\"two\")"
   ]
  },
  {
   "cell_type": "markdown",
   "metadata": {},
   "source": [
    "Use a for loop to loop over the moma list of lists. In each iteration of the loop:\n",
    "\n",
    "Clean the Nationality column of the data set by:\n",
    "Assigning the nationality for each row (found at list index 2 of the row) to a variable.\n",
    "Using the str.replace() method to remove the open parentheses (() character.\n",
    "Using the str.replace() method to remove the close parentheses ()) character.\n",
    "Assigning the cleaned value back to list index 2 of the row.\n",
    "Clean the Gender column of the data set (found at index 5 of the row) by repeating the same technique you used for the Nationality column."
   ]
  },
  {
   "cell_type": "code",
   "execution_count": 12,
   "metadata": {},
   "outputs": [
    {
     "name": "stdout",
     "output_type": "stream",
     "text": [
      "[['Dress MacLeod from Tartan Sets', 'Sarah Charlesworth', 'American', '(1947)', '(2013)', 'Female', '1986', 'Prints & Illustrated Books'], ['Duplicate of plate from folio 11 verso (supplementary suite, plate 4) from ARDICIA', 'Pablo Palazuelo', 'Spanish', '(1916)', '(2007)', 'Male', '1978', 'Prints & Illustrated Books'], ['Tailpiece (page 55) from SAGESSE', 'Maurice Denis', 'French', '(1870)', '(1943)', 'Male', '1889-1911', 'Prints & Illustrated Books'], ['Headpiece (page 129) from LIVRET DE FOLASTRIES, À JANOT PARISIEN', 'Aristide Maillol', 'French', '(1861)', '(1944)', 'Male', '1927-1940', 'Prints & Illustrated Books'], ['97 rue du Bac', 'Eugène Atget', 'French', '(1857)', '(1927)', 'Male', '1903', 'Photography']]\n"
     ]
    }
   ],
   "source": [
    "for row in moma:\n",
    "    nationality = row[2]\n",
    "    nationality = nationality.replace(\"(\",\"\")\n",
    "    nationality = nationality.replace(\")\",\"\")\n",
    "    row[2] = nationality\n",
    "    \n",
    "    gender = row[5]\n",
    "    gender = gender.replace(\"(\",\"\")\n",
    "    gender = gender.replace(\")\",\"\")\n",
    "    row[5] = gender\n",
    "\n",
    "#R moma_no_brackets <- moma %>% \n",
    "#R  mutate(Nationality = str_replace_all(Nationality,\"[^A-Za-z0-9 ]\",\"\")) %>% \n",
    "#R  mutate(Gender = str_replace_all(Gender,\"[^A-Za-z0-9]\",\"\"))\n",
    "print(moma[:5])"
   ]
  },
  {
   "cell_type": "markdown",
   "metadata": {},
   "source": [
    "Use a loop to iterate over all rows in the moma list of lists. For each row:\n",
    "\n",
    "Clean the Gender column.\n",
    "Assign the value from the Gender column, at index 5, to a variable.\n",
    "Make the changes to the value of that variable.\n",
    "Use the str.title() method to make the capitalization uniform.\n",
    "Use an if statement to check if the value is an empty string. If the value is an empty string, give it the value \"Gender Unknown/Other\".\n",
    "Assign the modified variable back to list index 5 of the row.\n",
    "Clean the Nationality column of the data set (found at index 2) by repeating the same technique you used for the Gender column.\n",
    "For missing values in the Nationality column, use the string \"Nationality Unknown\"."
   ]
  },
  {
   "cell_type": "code",
   "execution_count": 13,
   "metadata": {},
   "outputs": [],
   "source": [
    "for row in moma:\n",
    "    gender = row[5]\n",
    "    gender = gender.title()\n",
    "    if not gender:\n",
    "        gender = \"Gender Unknown/Other\"\n",
    "    row[5] = gender \n",
    "    \n",
    "    nationality = row[2]\n",
    "    nationality = nationality.title()\n",
    "    if not nationality:\n",
    "        nationality = \"Nationality Unknown\"\n",
    "    row[2] = nationality\n",
    "    \n",
    "\n",
    "\n",
    "#R moma_further <- moma_no_brackets %>%\n",
    "#R    mutate(Gender = if_else(Gender == \"\", \"Gender Unknown/Other\", str_to_title(Gender) )) %>%\n",
    "#R    mutate(Nationality = if_else(Nationality == \"\", \"Nationality Unknown\", str_to_title(Nationality) ))"
   ]
  },
  {
   "cell_type": "markdown",
   "metadata": {},
   "source": [
    "We have provided the clean_and_convert() that uses the if statement to bypass missing strings.\n",
    "\n",
    "Use a for loop to iterate over each row in the moma list of lists. In each iteration:\n",
    "\n",
    "Assign the BeginDate and EndDate values (at indexes 3 and 4) to variables.\n",
    "Use the clean_and_convert() function to clean and convert each value.\n",
    "Assign the converted values back to indexes 3 and 4 so the cleaned values are used in the moma list of lists."
   ]
  },
  {
   "cell_type": "code",
   "execution_count": 14,
   "metadata": {},
   "outputs": [],
   "source": [
    "def clean_and_convert(date):\n",
    "    # check that we don't have an empty string\n",
    "    if date != \"\":\n",
    "        # move the rest of the function inside\n",
    "        # the if statement\n",
    "        date = date.replace(\"(\", \"\")\n",
    "        date = date.replace(\")\", \"\")\n",
    "        date = int(date)\n",
    "    return date\n",
    "for row in moma:\n",
    "    birth_date = row[3]\n",
    "    death_date = row[4]\n",
    "    \n",
    "    birth_date = clean_and_convert(birth_date)\n",
    "    death_date = clean_and_convert(death_date)\n",
    "    \n",
    "    row[3] = birth_date\n",
    "    row[4] = death_date\n",
    "    \n",
    "#R moma_even_further <- moma_further %>% \n",
    "#R    mutate(BeginDate = str_replace_all(BeginDate,\"[^A-Za-z0-9]\",\"\")) %>% \n",
    "#R    mutate(EndDate = str_replace_all(BeginDate,\"[^A-Za-z0-9]\",\"\"))"
   ]
  },
  {
   "cell_type": "markdown",
   "metadata": {},
   "source": [
    "Create a function called strip_characters(), which accepts a string argument and:\n",
    "Iterates over the bad_chars list, using str.replace() to remove each character.\n",
    "Returns the cleaned string.\n",
    "Create an empty list, stripped_test_data.\n",
    "Iterate over the strings in test_data, and on each iteration:\n",
    "Use the function you created earlier to clean the string.\n",
    "Append the cleaned string to the stripped_test_data list."
   ]
  },
  {
   "cell_type": "code",
   "execution_count": 15,
   "metadata": {},
   "outputs": [],
   "source": [
    "test_data = [\"1912\", \"1929\", \"1913-1923\",\n",
    "             \"(1951)\", \"1994\", \"1934\",\n",
    "             \"c. 1915\", \"1995\", \"c. 1912\",\n",
    "             \"(1988)\", \"2002\", \"1957-1959\",\n",
    "             \"c. 1955.\", \"c. 1970's\", \n",
    "             \"C. 1990-1999\"]\n",
    "\n",
    "bad_chars = [\"(\",\")\",\"c\",\"C\",\".\",\"s\",\"'\", \" \"]\n",
    "\n",
    "def strip_characters(string):\n",
    "    for character in bad_chars:\n",
    "        string = string.replace(character,\"\")\n",
    "    return string\n",
    "\n",
    "stripped_test_data = []\n",
    "for dates in test_data:\n",
    "    date = strip_characters(dates)\n",
    "    stripped_test_data.append(date)\n",
    "    \n",
    "\n",
    "#R moma_almost <- moma_even_further %>% \n",
    "#R   mutate(Date2 = substr(Date,5,8)) %>% \n",
    "#R   mutate(Date = substr(Date,1,4))"
   ]
  },
  {
   "cell_type": "markdown",
   "metadata": {},
   "source": [
    "The stripped_test_data list, strip_characters() function and bad_chars list are provided for you so you don't have to toggle between screens to remember what they look like.\n",
    "\n",
    "Create a function called process_date() which accepts a string, and follows the logic we outlined above:\n",
    "Checks if the dash character (-) is in the string so we know if it's a range or not.\n",
    "If it is a range:\n",
    "Splits the string into two strings, before and after the dash character.\n",
    "Converts the two numbers to the integer type and then average them by adding them together and dividing by two.\n",
    "Uses the round() function to round the average, so values like 1964.5 become 1964.\n",
    "If it isn't a range:\n",
    "Converts the value to an integer type.\n",
    "Finally, returns the value.\n",
    "Create an empty list processed_test_data.\n",
    "Loop over the stripped_test_data list using your process_date() function. Process the dates and append each processed date back to the processed_test_data list.\n",
    "Once your code works with the test data, you can then iterate over the moma list of lists. In each iteration:\n",
    "Assign the value from the Date column (index 6) to a variable.\n",
    "Use the strip_characters() function to remove any bad characters.\n",
    "Use the process_date() to convert the date.\n",
    "Assign the stripped and processed value back to the row."
   ]
  },
  {
   "cell_type": "code",
   "execution_count": 16,
   "metadata": {},
   "outputs": [],
   "source": [
    "def process_date(date):\n",
    "    if \"-\" in date:\n",
    "        split_date = date.split(\"-\") # #produces split_date = [\"date_one\", \"date_two\"]\n",
    "        date_one = split_date[0] \n",
    "        date_two = split_date[1]\n",
    "        date = (int(date_one) + int(date_two)) / 2\n",
    "        date = round(date)\n",
    "    else:\n",
    "        date = int(date)\n",
    "    return date\n",
    "\n",
    "processed_test_data = []\n",
    "\n",
    "for d in stripped_test_data:\n",
    "    date = process_date(d)\n",
    "    processed_test_data.append(date)\n",
    "\n",
    "for row in moma:\n",
    "    date = row[6]\n",
    "    date = strip_characters(date)\n",
    "    date = process_date(date)\n",
    "    row[6] = date\n",
    "      \n",
    "        \n",
    "# #produces split_date = [\"date_one\", \"date_two\"]"
   ]
  }
 ],
 "metadata": {
  "kernelspec": {
   "display_name": "Python 3",
   "language": "python",
   "name": "python3"
  },
  "language_info": {
   "codemirror_mode": {
    "name": "ipython",
    "version": 3
   },
   "file_extension": ".py",
   "mimetype": "text/x-python",
   "name": "python",
   "nbconvert_exporter": "python",
   "pygments_lexer": "ipython3",
   "version": "3.7.6"
  }
 },
 "nbformat": 4,
 "nbformat_minor": 4
}
