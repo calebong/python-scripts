{
 "cells": [
  {
   "cell_type": "markdown",
   "metadata": {},
   "source": [
    "Use Python's type() function to assign the type of f500 to f500_type.\n",
    "Use the DataFrame.shape attribute to assign the shape of f500 to f500_shape.\n",
    "After you have run your code, use the variable inspector to look at the variables f500, f500_type, and f500_shape."
   ]
  },
  {
   "cell_type": "code",
   "execution_count": 4,
   "metadata": {},
   "outputs": [
    {
     "name": "stdout",
     "output_type": "stream",
     "text": [
      "<class 'pandas.core.frame.DataFrame'>\n",
      "(500, 16)\n"
     ]
    }
   ],
   "source": [
    "import pandas as pd\n",
    "f500 = pd.read_csv('f500.csv', index_col = 0)\n",
    "f500.index.name = None\n",
    "\n",
    "f500_type = type(f500)\n",
    "f500_shape = f500.shape\n",
    "\n",
    "print(f500_type)\n",
    "print(f500_shape)"
   ]
  },
  {
   "cell_type": "markdown",
   "metadata": {},
   "source": [
    "Just like in the previous missions, the f500 variable we created on the previous screen is available to you here.\n",
    "\n",
    "Use the head() method to select the first 6 rows. Assign the result to f500_head.\n",
    "Use the tail() method to select the last 8 rows. Assign the result to f500_tail.\n",
    "After you have run your code, use the variable inspector and output to view information about the dataframe."
   ]
  },
  {
   "cell_type": "code",
   "execution_count": 6,
   "metadata": {
    "scrolled": false
   },
   "outputs": [
    {
     "name": "stdout",
     "output_type": "stream",
     "text": [
      "                          rank  revenues  revenue_change  profits  assets  \\\n",
      "Walmart                      1    485873             0.8  13643.0  198825   \n",
      "State Grid                   2    315199            -4.4   9571.3  489838   \n",
      "Sinopec Group                3    267518            -9.1   1257.9  310726   \n",
      "China National Petroleum     4    262573           -12.3   1867.5  585619   \n",
      "Toyota Motor                 5    254694             7.7  16899.3  437575   \n",
      "Volkswagen                   6    240264             1.5   5937.3  432116   \n",
      "\n",
      "                          profit_change                  ceo  \\\n",
      "Walmart                            -7.2  C. Douglas McMillon   \n",
      "State Grid                         -6.2              Kou Wei   \n",
      "Sinopec Group                     -65.0            Wang Yupu   \n",
      "China National Petroleum          -73.7        Zhang Jianhua   \n",
      "Toyota Motor                      -12.3          Akio Toyoda   \n",
      "Volkswagen                          NaN      Matthias Muller   \n",
      "\n",
      "                                          industry                  sector  \\\n",
      "Walmart                      General Merchandisers               Retailing   \n",
      "State Grid                               Utilities                  Energy   \n",
      "Sinopec Group                   Petroleum Refining                  Energy   \n",
      "China National Petroleum        Petroleum Refining                  Energy   \n",
      "Toyota Motor              Motor Vehicles and Parts  Motor Vehicles & Parts   \n",
      "Volkswagen                Motor Vehicles and Parts  Motor Vehicles & Parts   \n",
      "\n",
      "                          previous_rank  country         hq_location  \\\n",
      "Walmart                               1      USA     Bentonville, AR   \n",
      "State Grid                            2    China      Beijing, China   \n",
      "Sinopec Group                         4    China      Beijing, China   \n",
      "China National Petroleum              3    China      Beijing, China   \n",
      "Toyota Motor                          8    Japan       Toyota, Japan   \n",
      "Volkswagen                            7  Germany  Wolfsburg, Germany   \n",
      "\n",
      "                                               website  \\\n",
      "Walmart                         http://www.walmart.com   \n",
      "State Grid                      http://www.sgcc.com.cn   \n",
      "Sinopec Group                   http://www.sinopec.com   \n",
      "China National Petroleum        http://www.cnpc.com.cn   \n",
      "Toyota Motor              http://www.toyota-global.com   \n",
      "Volkswagen                   http://www.volkswagen.com   \n",
      "\n",
      "                          years_on_global_500_list  employees  \\\n",
      "Walmart                                         23    2300000   \n",
      "State Grid                                      17     926067   \n",
      "Sinopec Group                                   19     713288   \n",
      "China National Petroleum                        17    1512048   \n",
      "Toyota Motor                                    23     364445   \n",
      "Volkswagen                                      23     626715   \n",
      "\n",
      "                          total_stockholder_equity  \n",
      "Walmart                                      77798  \n",
      "State Grid                                  209456  \n",
      "Sinopec Group                               106523  \n",
      "China National Petroleum                    301893  \n",
      "Toyota Motor                                157210  \n",
      "Volkswagen                                   97753  \n",
      "                                       rank  revenues  revenue_change  \\\n",
      "Telecom Italia                          493     21941           -17.4   \n",
      "Xiamen ITG Holding Group                494     21930            34.3   \n",
      "Xinjiang Guanghui Industry Investment   495     21919            31.1   \n",
      "Teva Pharmaceutical Industries          496     21903            11.5   \n",
      "New China Life Insurance                497     21796           -13.3   \n",
      "Wm. Morrison Supermarkets               498     21741           -11.3   \n",
      "TUI                                     499     21655            -5.5   \n",
      "AutoNation                              500     21609             3.6   \n",
      "\n",
      "                                       profits  assets  profit_change  \\\n",
      "Telecom Italia                          1999.4   74295            NaN   \n",
      "Xiamen ITG Holding Group                  35.6   12161          -25.1   \n",
      "Xinjiang Guanghui Industry Investment    251.8   31957           49.9   \n",
      "Teva Pharmaceutical Industries           329.0   92890          -79.3   \n",
      "New China Life Insurance                 743.9  100609          -45.6   \n",
      "Wm. Morrison Supermarkets                406.4   11630           20.4   \n",
      "TUI                                     1151.7   16247          195.5   \n",
      "AutoNation                               430.5   10060           -2.7   \n",
      "\n",
      "                                                      ceo  \\\n",
      "Telecom Italia                            Flavio Cattaneo   \n",
      "Xiamen ITG Holding Group                        Xu Xiaoxi   \n",
      "Xinjiang Guanghui Industry Investment       Shang Jiqiang   \n",
      "Teva Pharmaceutical Industries          Yitzhak Peterburg   \n",
      "New China Life Insurance                         Wan Feng   \n",
      "Wm. Morrison Supermarkets                  David T. Potts   \n",
      "TUI                                     Friedrich Joussen   \n",
      "AutoNation                             Michael J. Jackson   \n",
      "\n",
      "                                                              industry  \\\n",
      "Telecom Italia                                      Telecommunications   \n",
      "Xiamen ITG Holding Group                                       Trading   \n",
      "Xinjiang Guanghui Industry Investment                          Trading   \n",
      "Teva Pharmaceutical Industries                         Pharmaceuticals   \n",
      "New China Life Insurance               Insurance: Life, Health (stock)   \n",
      "Wm. Morrison Supermarkets                         Food and Drug Stores   \n",
      "TUI                                                    Travel Services   \n",
      "AutoNation                                         Specialty Retailers   \n",
      "\n",
      "                                                   sector  previous_rank  \\\n",
      "Telecom Italia                         Telecommunications            404   \n",
      "Xiamen ITG Holding Group                      Wholesalers              0   \n",
      "Xinjiang Guanghui Industry Investment         Wholesalers              0   \n",
      "Teva Pharmaceutical Industries                Health Care              0   \n",
      "New China Life Insurance                       Financials            427   \n",
      "Wm. Morrison Supermarkets              Food & Drug Stores            437   \n",
      "TUI                                     Business Services            467   \n",
      "AutoNation                                      Retailing              0   \n",
      "\n",
      "                                       country           hq_location  \\\n",
      "Telecom Italia                           Italy          Milan, Italy   \n",
      "Xiamen ITG Holding Group                 China         Xiamen, China   \n",
      "Xinjiang Guanghui Industry Investment    China         Urumqi, China   \n",
      "Teva Pharmaceutical Industries          Israel  Petach Tikva, Israel   \n",
      "New China Life Insurance                 China        Beijing, China   \n",
      "Wm. Morrison Supermarkets              Britain     Bradford, Britain   \n",
      "TUI                                    Germany      Hanover, Germany   \n",
      "AutoNation                                 USA   Fort Lauderdale, FL   \n",
      "\n",
      "                                                            website  \\\n",
      "Telecom Italia                         http://www.telecomitalia.com   \n",
      "Xiamen ITG Holding Group               http://www.itgholding.com.cn   \n",
      "Xinjiang Guanghui Industry Investment       http://www.guanghui.com   \n",
      "Teva Pharmaceutical Industries             http://www.tevapharm.com   \n",
      "New China Life Insurance                http://www.newchinalife.com   \n",
      "Wm. Morrison Supermarkets                  http://www.morrisons.com   \n",
      "TUI                                         http://www.tuigroup.com   \n",
      "AutoNation                                http://www.autonation.com   \n",
      "\n",
      "                                       years_on_global_500_list  employees  \\\n",
      "Telecom Italia                                               18      61227   \n",
      "Xiamen ITG Holding Group                                      1      18454   \n",
      "Xinjiang Guanghui Industry Investment                         1      65616   \n",
      "Teva Pharmaceutical Industries                                1      56960   \n",
      "New China Life Insurance                                      2      54378   \n",
      "Wm. Morrison Supermarkets                                    13      77210   \n",
      "TUI                                                          23      66779   \n",
      "AutoNation                                                   12      26000   \n",
      "\n",
      "                                       total_stockholder_equity  \n",
      "Telecom Italia                                            22366  \n",
      "Xiamen ITG Holding Group                                   1066  \n",
      "Xinjiang Guanghui Industry Investment                      4563  \n",
      "Teva Pharmaceutical Industries                            33337  \n",
      "New China Life Insurance                                   8507  \n",
      "Wm. Morrison Supermarkets                                  5111  \n",
      "TUI                                                        3006  \n",
      "AutoNation                                                 2310  \n"
     ]
    }
   ],
   "source": [
    "f500_head = f500.head(6)\n",
    "f500_tail = f500.tail(8)\n",
    "\n",
    "print(f500_head)\n",
    "print(f500_tail)"
   ]
  },
  {
   "cell_type": "markdown",
   "metadata": {},
   "source": [
    "Use the DataFrame.info() method to display information about the f500 dataframe.\n",
    "After you have run your code, use the variable inspector and output to view information about the dataframe."
   ]
  },
  {
   "cell_type": "code",
   "execution_count": 7,
   "metadata": {},
   "outputs": [
    {
     "name": "stdout",
     "output_type": "stream",
     "text": [
      "<class 'pandas.core.frame.DataFrame'>\n",
      "Index: 500 entries, Walmart to AutoNation\n",
      "Data columns (total 16 columns):\n",
      " #   Column                    Non-Null Count  Dtype  \n",
      "---  ------                    --------------  -----  \n",
      " 0   rank                      500 non-null    int64  \n",
      " 1   revenues                  500 non-null    int64  \n",
      " 2   revenue_change            498 non-null    float64\n",
      " 3   profits                   499 non-null    float64\n",
      " 4   assets                    500 non-null    int64  \n",
      " 5   profit_change             436 non-null    float64\n",
      " 6   ceo                       500 non-null    object \n",
      " 7   industry                  500 non-null    object \n",
      " 8   sector                    500 non-null    object \n",
      " 9   previous_rank             500 non-null    int64  \n",
      " 10  country                   500 non-null    object \n",
      " 11  hq_location               500 non-null    object \n",
      " 12  website                   500 non-null    object \n",
      " 13  years_on_global_500_list  500 non-null    int64  \n",
      " 14  employees                 500 non-null    int64  \n",
      " 15  total_stockholder_equity  500 non-null    int64  \n",
      "dtypes: float64(3), int64(7), object(6)\n",
      "memory usage: 66.4+ KB\n"
     ]
    }
   ],
   "source": [
    "f500.info()"
   ]
  },
  {
   "cell_type": "markdown",
   "metadata": {},
   "source": [
    "Select the industry column. Assign the result to the variable name industries.\n",
    "Use Python's type() function to assign the type of industries to industries_type.\n",
    "After you have run your code, use the variable inspector to look at the variables."
   ]
  },
  {
   "cell_type": "code",
   "execution_count": 10,
   "metadata": {},
   "outputs": [
    {
     "name": "stdout",
     "output_type": "stream",
     "text": [
      "<class 'pandas.core.series.Series'>\n"
     ]
    }
   ],
   "source": [
    "industries = f500['industry']\n",
    "\n",
    "industries_type = type(industries)\n",
    "\n",
    "print(industries_type)\n",
    "\n",
    "#The syntax for DataFrame.loc[] is:\n",
    "\n",
    "# df.loc[row_label, column_label]"
   ]
  },
  {
   "cell_type": "markdown",
   "metadata": {},
   "source": [
    "On the last screen, we observed that when you select just one column of a dataframe, you get a new pandas type: a series object. Series is the pandas type for one-dimensional objects. Anytime you see a 1D pandas object, it will be a series. Anytime you see a 2D pandas object, it will be a dataframe.\n",
    "\n",
    "In fact, you can think of a dataframe as a collection of series objects, which is similar to how pandas stores the data behind the scenes."
   ]
  },
  {
   "cell_type": "code",
   "execution_count": null,
   "metadata": {},
   "outputs": [],
   "source": [
    "Select by Label\tExplicit Syntax\tCommon Shorthand\n",
    "Single column\tdf.loc[:,\"col1\"]\tdf[\"col1\"]\n",
    "List of columns\tdf.loc[:,[\"col1\", \"col7\"]]\tdf[[\"col1\", \"col7\"]]\n",
    "Slice of columns\tdf.loc[:,\"col1\":\"col4\"]\t"
   ]
  },
  {
   "cell_type": "markdown",
   "metadata": {},
   "source": [
    "Select the country column. Assign the result to the variable name countries.\n",
    "In order, select the revenues and years_on_global_500_list columns. Assign the result to the variable name revenues_years.\n",
    "In order, select all columns from ceo up to and including sector. Assign the result to the variable name ceo_to_sector.\n",
    "After you have run your code, use the variable inspector to view the variables."
   ]
  },
  {
   "cell_type": "code",
   "execution_count": null,
   "metadata": {},
   "outputs": [],
   "source": [
    "countries = f500['country']\n",
    "revenues_years = f500[['revenues','years_on_global_500_list']] #separated\n",
    "ceo_to_sector = f500.loc[:,'ceo':'sector'] #slices\n",
    "\n",
    "# dont forget the loc and : for all rows AND to slice columns\n"
   ]
  },
  {
   "cell_type": "markdown",
   "metadata": {},
   "source": [
    "By selecting data from f500:\n",
    "Create a new variable toyota, with:\n",
    "Just the row with index Toyota Motor.\n",
    "All columns.\n",
    "Create a new variable, drink_companies, with:\n",
    "Rows with indicies Anheuser-Busch InBev, Coca-Cola, and Heineken Holding, in that order.\n",
    "All columns.\n",
    "Create a new variable, middle_companies with:\n",
    "All rows with indicies from Tata Motorsto Nationwide, inclusive.\n",
    "All columns from rank to country, inclusive."
   ]
  },
  {
   "cell_type": "code",
   "execution_count": 12,
   "metadata": {},
   "outputs": [],
   "source": [
    "toyota = f500.loc['Toyota Motor']\n",
    "drink_companies = f500.loc[['Anheuser-Busch InBev','Coca-Cola','Heineken Holding']] # separated\n",
    "middle_companies = f500.loc['Tata Motors':'Nationwide','rank':'country'] #slices\n",
    "\n",
    "# as long as rows are to be selected, use the loc attribute"
   ]
  },
  {
   "cell_type": "code",
   "execution_count": null,
   "metadata": {},
   "outputs": [],
   "source": [
    "#R sector_counts <- fortune %>% \n",
    "#R  select(sector) %>% \n",
    "#R  group_by(sector) %>% \n",
    "#R summarize(freq=n()) %>% \n",
    "#R arrange(desc(freq))"
   ]
  },
  {
   "cell_type": "markdown",
   "metadata": {},
   "source": [
    "We've already saved a selection of data from f500 to a dataframe named f500_sel.\n",
    "\n",
    "Find the counts of each unique value in the country column in the f500_sel dataframe.\n",
    "Select the country column in the f500_sel dataframe. Assign it to a variable named countries.\n",
    "Use the Series.value_counts() method to return the value counts for countries. Assign the results to country_counts."
   ]
  },
  {
   "cell_type": "code",
   "execution_count": 20,
   "metadata": {},
   "outputs": [],
   "source": [
    "f500_sel = f500.loc[['Walmart','State Grid','Sinopec Group','China National Petroleum','Toyota Motor','Apple']]\n",
    "\n",
    "countries = f500_sel['country']\n",
    "\n",
    "country_counts = countries.value_counts()\n"
   ]
  },
  {
   "cell_type": "markdown",
   "metadata": {},
   "source": [
    "From the pandas series countries_counts:\n",
    "Select the item at index label India. Assign the result to the variable name india.\n",
    "In order, select the items with index labels USA, Canada, and Mexico. Assign the result to the variable name north_america."
   ]
  },
  {
   "cell_type": "code",
   "execution_count": 22,
   "metadata": {},
   "outputs": [],
   "source": [
    "countries = f500['country']\n",
    "countries_counts = countries.value_counts()\n",
    "\n",
    "india = countries_counts.loc['India']\n",
    "north_america = countries_counts.loc[['USA','Canada','Mexico']]"
   ]
  },
  {
   "cell_type": "markdown",
   "metadata": {},
   "source": [
    "Select by Label\tExplicit Syntax\tShorthand Convention\n",
    "Single column from dataframe\tdf.loc[:,\"col1\"]\tdf[\"col1\"]\n",
    "List of columns from dataframe\tdf.loc[:,[\"col1\",\"col7\"]]\tdf[[\"col1\",\"col7\"]]\n",
    "Slice of columns from dataframe\tdf.loc[:,\"col1\":\"col4\"]\t\n",
    "Single row from dataframe\tdf.loc[\"row4\"]\t\n",
    "List of rows from dataframe\tdf.loc[[\"row1\", \"row8\"]]\t\n",
    "Slice of rows from dataframe\tdf.loc[\"row3\":\"row5\"]\tdf[\"row3\":\"row5\"]\n",
    "Single item from series\ts.loc[\"item8\"]\ts[\"item8\"]\n",
    "List of items from series\ts.loc[[\"item1\",\"item7\"]]\ts[[\"item1\",\"item7\"]]\n",
    "Slice of items from series\ts.loc[\"item2\":\"item4\"]\ts[\"item2\":\"item4\"]"
   ]
  },
  {
   "cell_type": "markdown",
   "metadata": {},
   "source": [
    "By selecting data from f500:\n",
    "\n",
    "Create a new variable big_movers, with:\n",
    "Rows with indices Aviva, HP, JD.com, and BHP Billiton, in that order.\n",
    "The rank and previous_rank columns, in that order.\n",
    "Create a new variable, bottom_companies with:\n",
    "All rows with indices from National Gridto AutoNation, inclusive.\n",
    "The rank, sector, and country columns."
   ]
  },
  {
   "cell_type": "code",
   "execution_count": 24,
   "metadata": {},
   "outputs": [],
   "source": [
    "big_movers = f500.loc[['Aviva','HP','JD.com','BHP Billiton'],['rank','previous_rank']]\n",
    "bottom_companies = f500.loc['National Grid':'AutoNation',['rank','sector','country']]"
   ]
  }
 ],
 "metadata": {
  "kernelspec": {
   "display_name": "Python 3",
   "language": "python",
   "name": "python3"
  },
  "language_info": {
   "codemirror_mode": {
    "name": "ipython",
    "version": 3
   },
   "file_extension": ".py",
   "mimetype": "text/x-python",
   "name": "python",
   "nbconvert_exporter": "python",
   "pygments_lexer": "ipython3",
   "version": "3.7.6"
  }
 },
 "nbformat": 4,
 "nbformat_minor": 4
}
