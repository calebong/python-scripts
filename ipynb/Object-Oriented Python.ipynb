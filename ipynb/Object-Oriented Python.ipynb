{
 "cells": [
  {
   "cell_type": "markdown",
   "metadata": {},
   "source": [
    "In the code editor, we have defined one variable of each of three types we've worked with so far. Follow each of the instructions below, in order.\n",
    "\n",
    "Use the print() function to display the type of the list l.\n",
    "Use the print() function to display the type of the string s.\n",
    "Use the print() function to display the type of the dictionary d."
   ]
  },
  {
   "cell_type": "code",
   "execution_count": 1,
   "metadata": {},
   "outputs": [
    {
     "name": "stdout",
     "output_type": "stream",
     "text": [
      "<class 'list'>\n",
      "<class 'str'>\n",
      "<class 'dict'>\n"
     ]
    }
   ],
   "source": [
    "l = [1, 2, 3]\n",
    "s = \"string\"\n",
    "d = {\"a\": 1, \"b\": 2}\n",
    "\n",
    "\n",
    "print(type(l))\n",
    "print(type(s))\n",
    "print(type(d))"
   ]
  },
  {
   "cell_type": "markdown",
   "metadata": {},
   "source": [
    "Define our new class called NewList().\n",
    "Use the pass keyword in the body of our class to avoid a SyntaxError."
   ]
  },
  {
   "cell_type": "code",
   "execution_count": 2,
   "metadata": {},
   "outputs": [],
   "source": [
    "class NewList():\n",
    "    pass"
   ]
  },
  {
   "cell_type": "markdown",
   "metadata": {},
   "source": [
    "Define a new class called NewList:\n",
    "Use NewList(DQ) when defining the class, so we can perform answer checking on your class.\n",
    "Use the pass keyword so our empty class does not raise a SyntaxError.\n",
    "Create an instance of the NewList class. Assign it to the variable name newlist_1.\n",
    "Print the type of the newlist_1 variable."
   ]
  },
  {
   "cell_type": "code",
   "execution_count": 4,
   "metadata": {},
   "outputs": [
    {
     "name": "stdout",
     "output_type": "stream",
     "text": [
      "<class '__main__.NewList'>\n"
     ]
    }
   ],
   "source": [
    "class NewList():\n",
    "    pass\n",
    "\n",
    "newlist_1 = NewList()\n",
    "\n",
    "print(type(newlist_1))"
   ]
  },
  {
   "cell_type": "code",
   "execution_count": 7,
   "metadata": {},
   "outputs": [
    {
     "name": "stdout",
     "output_type": "stream",
     "text": [
      "<__main__.Newlist object at 0x00000106F0DD1948>\n"
     ]
    }
   ],
   "source": [
    "class Newlist():\n",
    "    def first_method():\n",
    "        return \"This is my first method\"\n",
    "\n",
    "newlist = Newlist()\n",
    "\n",
    "print(newlist)"
   ]
  },
  {
   "cell_type": "markdown",
   "metadata": {},
   "source": [
    "We have provided the solution from the previous screen as comments in the code editor. Select all of these lines and press ctrl + / (PC) or ⌘ + / (Mac) to uncomment these lines so you can modify it.\n",
    "For a demo of how this keyboard shortcut works, see this help article.\n",
    "Modify the first_method() method by adding self as an argument.\n",
    "Create an instance of the NewList class. Assign it to the variable name newlist.\n",
    "Call newlist.first_method(). Assign the result to the variable result."
   ]
  },
  {
   "cell_type": "code",
   "execution_count": 8,
   "metadata": {},
   "outputs": [],
   "source": [
    "class NewList():\n",
    "    def first_method(self):\n",
    "        return \"This is my first method\"\n",
    "    \n",
    "newlist = NewList()\n",
    "\n",
    "result = newlist.first_method()"
   ]
  },
  {
   "cell_type": "markdown",
   "metadata": {},
   "source": [
    "Define a new class called NewList().\n",
    "Use NewList(DQ) when defining the class, so we can perform answer checking on your class.\n",
    "Inside the class, define a method called return_list().\n",
    "The method should accept a single argument input_list when called.\n",
    "Inside the method, return input_list.\n",
    "Create an instance of the NewList class, and assign it to the variable name newlist.\n",
    "Call the newlist.return_list() method with the argument [1, 2, 3]. Assign the result to the variable result."
   ]
  },
  {
   "cell_type": "code",
   "execution_count": 13,
   "metadata": {},
   "outputs": [],
   "source": [
    "class NewList():\n",
    "    def return_list(self, input_list):\n",
    "        return input_list\n",
    "    \n",
    "newlist = NewList()\n",
    "\n",
    "result = newlist.return_list([1,2,3])"
   ]
  },
  {
   "cell_type": "markdown",
   "metadata": {},
   "source": [
    "Define a new class called NewList().\n",
    "Use NewList(DQ) when defining the class, so we can perform answer checking on your class.\n",
    "Create an init method which accepts a single argument, initial_state.\n",
    "Inside the init method, assign initial_state to an attribute called data.\n",
    "Instantiate an object of your NewList class, providing the list [1, 2, 3, 4, 5] as an argument. Assign the object to the variable name my_list.\n",
    "Use the print() function to display the data attribute of my_list."
   ]
  },
  {
   "cell_type": "code",
   "execution_count": 14,
   "metadata": {},
   "outputs": [
    {
     "name": "stdout",
     "output_type": "stream",
     "text": [
      "[1, 2, 3, 4, 5]\n"
     ]
    }
   ],
   "source": [
    "class NewList():\n",
    "    def __init__(self, initial_state):\n",
    "        self.data = initial_state\n",
    "        \n",
    "my_list = NewList([1,2,3,4,5])\n",
    "\n",
    "print(my_list.data)"
   ]
  },
  {
   "cell_type": "markdown",
   "metadata": {},
   "source": [
    "We have provided the solution from the previous screen as comments in the code editor. Select all of these lines and press ctrl + / (PC) or ⌘ + / (Mac) to uncomment these lines so you can make modifications to it.\n",
    "For a demo of how this keyboard shortcut works, see this help article.\n",
    "To the NewList definition, add a new method NewList.append().\n",
    "The method will require a single argument to be passed to it when called.\n",
    "The method will modify the NewList.data attribute by appending the argument to the list.\n",
    "The method should not return any value.\n",
    "Create an object of the NewList class, initializing the data in the object with [1, 2, 3, 4, 5]. Assign the object to the variable name my_list.\n",
    "Use the print() function to display the my_list.data attribute.\n",
    "Use the NewList.append() method to append the integer 6 to the my_list object.\n",
    "Use the print() function to display the my_list.data attribute."
   ]
  },
  {
   "cell_type": "code",
   "execution_count": 15,
   "metadata": {},
   "outputs": [
    {
     "name": "stdout",
     "output_type": "stream",
     "text": [
      "[1, 2, 3, 4, 5]\n",
      "[1, 2, 3, 4, 5, 6]\n"
     ]
    }
   ],
   "source": [
    "\n",
    "class NewList():\n",
    "    \"\"\"\n",
    "    A Python list with some extras!\n",
    "    \"\"\"\n",
    "    def __init__(self, initial_state):\n",
    "        self.data = initial_state\n",
    "    def append(self, new_item):\n",
    "        \"\"\"\n",
    "        Append `new_item` to the NewList\n",
    "        \"\"\"\n",
    "        self.data = self.data + [new_item]\n",
    "        \n",
    "my_list = NewList([1,2,3,4,5])\n",
    "\n",
    "print(my_list.data)\n",
    "my_list.append(6)\n",
    "print(my_list.data)"
   ]
  },
  {
   "cell_type": "markdown",
   "metadata": {},
   "source": [
    "We have provided the solution from the previous screen as comments in the code editor. Select all of these lines and press ctrl + / (PC) or ⌘ + / (Mac) to uncomment these lines so you can make modifications to it.\n",
    "For a demo of how this keyboard shortcut works, see this help article.\n",
    "Add a helper method called calc_length() to our NewList class, which calculates the length of the list stored in the object and stores it in a new NewList.length attribute.\n",
    "Add the helper method to the end of both the __init__() and append() methods.\n",
    "Test that the new attribute works as expected:\n",
    "Create a new NewList object containing the list [1, 1, 2, 3, 5] and assigning it to the variable name fibonacci.\n",
    "Use the print() function to display the length attribute of the fibonacci object.\n",
    "Append the value 8 to fibonacci\n",
    "Use the print() function to display the updated length attribute of the fibonacci object."
   ]
  },
  {
   "cell_type": "code",
   "execution_count": 17,
   "metadata": {},
   "outputs": [
    {
     "ename": "NameError",
     "evalue": "name 'DQ' is not defined",
     "output_type": "error",
     "traceback": [
      "\u001b[1;31m---------------------------------------------------------------------------\u001b[0m",
      "\u001b[1;31mNameError\u001b[0m                                 Traceback (most recent call last)",
      "\u001b[1;32m<ipython-input-17-a18214c1f521>\u001b[0m in \u001b[0;36m<module>\u001b[1;34m\u001b[0m\n\u001b[0;32m     14\u001b[0m \u001b[1;31m#         \"\"\"\u001b[0m\u001b[1;33m\u001b[0m\u001b[1;33m\u001b[0m\u001b[1;33m\u001b[0m\u001b[0m\n\u001b[0;32m     15\u001b[0m \u001b[1;31m#         self.data = self.data + [new_item]\u001b[0m\u001b[1;33m\u001b[0m\u001b[1;33m\u001b[0m\u001b[1;33m\u001b[0m\u001b[0m\n\u001b[1;32m---> 16\u001b[1;33m \u001b[1;32mclass\u001b[0m \u001b[0mNewList\u001b[0m\u001b[1;33m(\u001b[0m\u001b[0mDQ\u001b[0m\u001b[1;33m)\u001b[0m\u001b[1;33m:\u001b[0m\u001b[1;33m\u001b[0m\u001b[1;33m\u001b[0m\u001b[0m\n\u001b[0m\u001b[0;32m     17\u001b[0m     \"\"\"\n\u001b[0;32m     18\u001b[0m     \u001b[0mA\u001b[0m \u001b[0mPython\u001b[0m \u001b[0mlist\u001b[0m \u001b[1;32mwith\u001b[0m \u001b[0msome\u001b[0m \u001b[0mextras\u001b[0m\u001b[0;31m!\u001b[0m\u001b[1;33m\u001b[0m\u001b[1;33m\u001b[0m\u001b[0m\n",
      "\u001b[1;31mNameError\u001b[0m: name 'DQ' is not defined"
     ]
    }
   ],
   "source": [
    "# The NewList definition from the previous\n",
    "# screen is copied here for your convenience\n",
    "\n",
    "# class NewList():\n",
    "#     \"\"\"\n",
    "#     A Python list with some extras!\n",
    "#     \"\"\"\n",
    "#     def __init__(self, initial_state):\n",
    "#         self.data = initial_state\n",
    "    \n",
    "#     def append(self, new_item):\n",
    "#         \"\"\"\n",
    "#         Append `new_item` to the NewList\n",
    "#         \"\"\"\n",
    "#         self.data = self.data + [new_item]\n",
    "class NewList(DQ):\n",
    "    \"\"\"\n",
    "    A Python list with some extras!\n",
    "    \"\"\"\n",
    "    def __init__(self, initial_state):\n",
    "        self.data = initial_state\n",
    "        self.calc_length()\n",
    "    \n",
    "    def calc_length(self):\n",
    "        \"\"\"\n",
    "        A helper function to calculate the .length\n",
    "        attribute.\n",
    "        \"\"\"\n",
    "        length = 0\n",
    "        for item in self.data:\n",
    "            length += 1\n",
    "        self.length = length\n",
    "    \n",
    "    def append(self, new_item):\n",
    "        \"\"\"\n",
    "        Append `new_item` to the NewList\n",
    "        \"\"\"\n",
    "        self.data = self.data + [new_item]\n",
    "        self.calc_length()\n",
    "\n",
    "fibonacci = NewList([1, 1, 2, 3, 5])\n",
    "print(fibonacci.length)\n",
    "\n",
    "fibonacci.append(8)\n",
    "print(fibonacci.length)"
   ]
  }
 ],
 "metadata": {
  "kernelspec": {
   "display_name": "Python 3",
   "language": "python",
   "name": "python3"
  },
  "language_info": {
   "codemirror_mode": {
    "name": "ipython",
    "version": 3
   },
   "file_extension": ".py",
   "mimetype": "text/x-python",
   "name": "python",
   "nbconvert_exporter": "python",
   "pygments_lexer": "ipython3",
   "version": "3.7.6"
  }
 },
 "nbformat": 4,
 "nbformat_minor": 4
}
