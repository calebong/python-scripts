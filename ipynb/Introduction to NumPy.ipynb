{
 "cells": [
  {
   "cell_type": "markdown",
   "metadata": {},
   "source": [
    "Execute the instructions below in the script.py code box on the right.\n",
    "\n",
    "Import numpy and assign to the alias np.\n",
    "Create a NumPy ndarray from the list [10, 20, 30]. Assign the result to the variable data_ndarray.\n",
    "Click 'Run Code' to run your code and get feedback.\n",
    "Click 'Submit Answer' to check your answer.\n",
    "If you need a hint, you can find one under the \"get help\" menu."
   ]
  },
  {
   "cell_type": "code",
   "execution_count": 1,
   "metadata": {},
   "outputs": [],
   "source": [
    "import numpy as np\n",
    "\n",
    "data_ndarray = np.array([10, 20, 30])"
   ]
  },
  {
   "cell_type": "markdown",
   "metadata": {},
   "source": [
    "In the script.py code box on the right, we have used Python's csv module to import the nyc_taxis.csv file and convert it to a list of lists containing float values.\n",
    "\n",
    "Add a line of code using the numpy.array() constructor to convert the converted_taxi_list variable to a NumPy ndarray.\n",
    "Assign the result to the variable name taxi."
   ]
  },
  {
   "cell_type": "code",
   "execution_count": 2,
   "metadata": {},
   "outputs": [],
   "source": [
    "import csv\n",
    "import numpy as np\n",
    "\n",
    "# import nyc_taxi.csv as a list of lists\n",
    "f = open(\"nyc_taxis.csv\", \"r\")\n",
    "taxi_list = list(csv.reader(f))\n",
    "\n",
    "# remove the header row\n",
    "taxi_list = taxi_list[1:]\n",
    "\n",
    "# convert all values to floats\n",
    "converted_taxi_list = []\n",
    "for row in taxi_list:\n",
    "    converted_row = []\n",
    "    for item in row:\n",
    "        converted_row.append(float(item))\n",
    "    converted_taxi_list.append(converted_row)\n",
    "\n",
    "# start writing your code below this comment"
   ]
  },
  {
   "cell_type": "code",
   "execution_count": 5,
   "metadata": {},
   "outputs": [
    {
     "name": "stdout",
     "output_type": "stream",
     "text": [
      "(89560, 15)\n"
     ]
    }
   ],
   "source": [
    "taxi = np.array(converted_taxi_list)\n",
    "\n",
    "print(taxi.shape)"
   ]
  },
  {
   "cell_type": "markdown",
   "metadata": {},
   "source": [
    "Throughout all of our Dataquest missions, variables we created in previous screens are available.\n",
    "\n",
    "Assign the shape of taxi to taxi_shape. Print the result."
   ]
  },
  {
   "cell_type": "code",
   "execution_count": 6,
   "metadata": {},
   "outputs": [
    {
     "name": "stdout",
     "output_type": "stream",
     "text": [
      "(89560, 15)\n"
     ]
    }
   ],
   "source": [
    "taxi_shape = taxi.shape\n",
    "print(taxi_shape)"
   ]
  },
  {
   "cell_type": "markdown",
   "metadata": {},
   "source": [
    "From the taxi ndarray:\n",
    "\n",
    "Select the row at index 0. Assign it to row_0.\n",
    "Select every column for the rows at indexes 391 to 500 inclusive. Assign them to rows_391_to_500.\n",
    "Select the item at row index 21 and column index 5. Assign it to row_21_column_5."
   ]
  },
  {
   "cell_type": "code",
   "execution_count": 7,
   "metadata": {},
   "outputs": [],
   "source": [
    "row_0 = taxi[0]\n",
    "\n",
    "rows_391_to_500 = taxi[391:501]\n",
    "\n",
    "row_21_column_5 = taxi[21,5]"
   ]
  },
  {
   "cell_type": "markdown",
   "metadata": {},
   "source": [
    "From the taxi ndarray:\n",
    "\n",
    "Select every row for the columns at indexes 1, 4, and 7. Assign them to columns_1_4_7.\n",
    "Select the columns at indexes 5 to 8 inclusive for the row at index 99. Assign them to row_99_columns_5_to_8.\n",
    "Select the rows at indexes 100 to 200 inclusive for the column at index 14. Assign them to rows_100_to_200_column_14."
   ]
  },
  {
   "cell_type": "code",
   "execution_count": 8,
   "metadata": {},
   "outputs": [],
   "source": [
    "y = [1,4,7]\n",
    "columns_1_4_7 = taxi[:,y] # columns_1_4_7 = taxi[:,[1,4,7]]\n",
    "\n",
    "row_99_columns_5_to_8 = taxi[99,5:9]\n",
    "\n",
    "rows_100_to_200_column_14 = taxi[100:201,14]"
   ]
  },
  {
   "cell_type": "markdown",
   "metadata": {},
   "source": [
    "Use vector addition to add fare_amount and fees_amount. Assign the result to fare_and_fees.\n",
    "After you have run your code, use the variable inspector below the code box to inspect the variables."
   ]
  },
  {
   "cell_type": "code",
   "execution_count": 10,
   "metadata": {},
   "outputs": [
    {
     "name": "stdout",
     "output_type": "stream",
     "text": [
      "[52.8 46.3 37.8 ... 52.8 35.8 49.3]\n"
     ]
    }
   ],
   "source": [
    "fare_amount = taxi[:,9]\n",
    "fees_amount = taxi[:,10]\n",
    "\n",
    "fare_and_fees = fare_amount + fees_amount\n",
    "\n",
    "print(fare_and_fees)"
   ]
  },
  {
   "cell_type": "markdown",
   "metadata": {},
   "source": [
    "Use vector division to divide trip_distance_miles by trip_length_hours. Assign the result to trip_mph.\n",
    "After you have run your code, use the variable inspector below the code box to inspect the contents of the new trip_mph variable."
   ]
  },
  {
   "cell_type": "code",
   "execution_count": 16,
   "metadata": {},
   "outputs": [
    {
     "name": "stdout",
     "output_type": "stream",
     "text": [
      "[37.11340206 38.58157895 31.27222982 ... 22.29907867 42.41551247\n",
      " 36.90473407]\n"
     ]
    }
   ],
   "source": [
    "trip_distance_miles = taxi[:,7]\n",
    "trip_length_seconds = taxi[:,8]\n",
    "\n",
    "trip_length_hours = trip_length_seconds / 3600 # 3600 seconds is one hour\n",
    "\n",
    "trip_mph = trip_distance_miles / trip_length_hours\n",
    "\n",
    "print(trip_mph)"
   ]
  },
  {
   "cell_type": "markdown",
   "metadata": {},
   "source": [
    "Use the ndarray.max() method to calculate the maximum value of trip_mph. Assign the result to mph_max.\n",
    "Use the ndarray.mean() method to calculate the average value of trip_mph. Assign the result to mph_mean."
   ]
  },
  {
   "cell_type": "code",
   "execution_count": 19,
   "metadata": {},
   "outputs": [
    {
     "name": "stdout",
     "output_type": "stream",
     "text": [
      "82800.0\n",
      "32.24258580925573\n"
     ]
    }
   ],
   "source": [
    "mph_max = trip_mph.max()\n",
    "mph_mean = trip_mph.mean()\n",
    "\n",
    "print(mph_max)\n",
    "print(mph_mean)"
   ]
  },
  {
   "cell_type": "markdown",
   "metadata": {},
   "source": [
    "We've already assigned the first five rows of taxi to taxi_first_five and the first four columns in the table above to fare_components.\n",
    "\n",
    "Check that the sum of each row in fare_components equals the value in the total_amount column.\n",
    "\n",
    "Use the ndarray.sum() method to calculate the sum of each row in fare_components. Assign the result to fare_sums.\n",
    "Extract the 14th column in taxi_first_five. Assign to fare_totals.\n",
    "Print fare_totals and fare_sums. Use the variable inspector to verify the results match."
   ]
  },
  {
   "cell_type": "code",
   "execution_count": 23,
   "metadata": {
    "scrolled": true
   },
   "outputs": [
    {
     "name": "stdout",
     "output_type": "stream",
     "text": [
      "[69.99 54.3  37.8  32.76 18.8 ]\n",
      "[69.99 54.3  37.8  32.76 18.8 ]\n"
     ]
    }
   ],
   "source": [
    "# we'll compare against the first 5 rows only\n",
    "taxi_first_five = taxi[:5]\n",
    "# select these columns: fare_amount, fees_amount, tolls_amount, tip_amount\n",
    "fare_components = taxi_first_five[:,9:13]\n",
    "# sum the component columns\n",
    "fare_sums = fare_components.sum(axis=1)\n",
    "\n",
    "# select the total_amount column\n",
    "fare_totals = taxi_first_five[:,13]\n",
    "\n",
    "# compare the summed columns to the fare_totals\n",
    "print(fare_totals)\n",
    "print(fare_sums)"
   ]
  }
 ],
 "metadata": {
  "kernelspec": {
   "display_name": "Python 3",
   "language": "python",
   "name": "python3"
  },
  "language_info": {
   "codemirror_mode": {
    "name": "ipython",
    "version": 3
   },
   "file_extension": ".py",
   "mimetype": "text/x-python",
   "name": "python",
   "nbconvert_exporter": "python",
   "pygments_lexer": "ipython3",
   "version": "3.7.6"
  }
 },
 "nbformat": 4,
 "nbformat_minor": 4
}
