{
 "cells": [
  {
   "cell_type": "code",
   "execution_count": 1,
   "metadata": {},
   "outputs": [],
   "source": [
    "#import data\n",
    "\n",
    "import pandas as pd\n",
    "f500 = pd.read_csv('f500.csv', index_col = 0)\n",
    "f500.index.name = None\n"
   ]
  },
  {
   "cell_type": "markdown",
   "metadata": {},
   "source": [
    "We've already read the data set into a pandas dataframe and assigned it to a variable named f500.\n",
    "\n",
    "Use the DataFrame.head() method to select the first 10 rows in f500. Assign the result to f500_head.\n",
    "Use the DataFrame.info() method to display information about the dataframe."
   ]
  },
  {
   "cell_type": "code",
   "execution_count": 2,
   "metadata": {
    "scrolled": true
   },
   "outputs": [
    {
     "data": {
      "text/plain": [
       "<bound method DataFrame.info of                           rank  revenues  revenue_change  profits  assets  \\\n",
       "Walmart                      1    485873             0.8  13643.0  198825   \n",
       "State Grid                   2    315199            -4.4   9571.3  489838   \n",
       "Sinopec Group                3    267518            -9.1   1257.9  310726   \n",
       "China National Petroleum     4    262573           -12.3   1867.5  585619   \n",
       "Toyota Motor                 5    254694             7.7  16899.3  437575   \n",
       "Volkswagen                   6    240264             1.5   5937.3  432116   \n",
       "Royal Dutch Shell            7    240033           -11.8   4575.0  411275   \n",
       "Berkshire Hathaway           8    223604             6.1  24074.0  620854   \n",
       "Apple                        9    215639            -7.7  45687.0  321686   \n",
       "Exxon Mobil                 10    205004           -16.7   7840.0  330314   \n",
       "\n",
       "                          profit_change                  ceo  \\\n",
       "Walmart                            -7.2  C. Douglas McMillon   \n",
       "State Grid                         -6.2              Kou Wei   \n",
       "Sinopec Group                     -65.0            Wang Yupu   \n",
       "China National Petroleum          -73.7        Zhang Jianhua   \n",
       "Toyota Motor                      -12.3          Akio Toyoda   \n",
       "Volkswagen                          NaN      Matthias Muller   \n",
       "Royal Dutch Shell                 135.9      Ben van Beurden   \n",
       "Berkshire Hathaway                  NaN    Warren E. Buffett   \n",
       "Apple                             -14.4      Timothy D. Cook   \n",
       "Exxon Mobil                       -51.5      Darren W. Woods   \n",
       "\n",
       "                                                          industry  \\\n",
       "Walmart                                      General Merchandisers   \n",
       "State Grid                                               Utilities   \n",
       "Sinopec Group                                   Petroleum Refining   \n",
       "China National Petroleum                        Petroleum Refining   \n",
       "Toyota Motor                              Motor Vehicles and Parts   \n",
       "Volkswagen                                Motor Vehicles and Parts   \n",
       "Royal Dutch Shell                               Petroleum Refining   \n",
       "Berkshire Hathaway        Insurance: Property and Casualty (Stock)   \n",
       "Apple                                  Computers, Office Equipment   \n",
       "Exxon Mobil                                     Petroleum Refining   \n",
       "\n",
       "                                          sector  previous_rank      country  \\\n",
       "Walmart                                Retailing              1          USA   \n",
       "State Grid                                Energy              2        China   \n",
       "Sinopec Group                             Energy              4        China   \n",
       "China National Petroleum                  Energy              3        China   \n",
       "Toyota Motor              Motor Vehicles & Parts              8        Japan   \n",
       "Volkswagen                Motor Vehicles & Parts              7      Germany   \n",
       "Royal Dutch Shell                         Energy              5  Netherlands   \n",
       "Berkshire Hathaway                    Financials             11          USA   \n",
       "Apple                                 Technology              9          USA   \n",
       "Exxon Mobil                               Energy              6          USA   \n",
       "\n",
       "                                     hq_location  \\\n",
       "Walmart                          Bentonville, AR   \n",
       "State Grid                        Beijing, China   \n",
       "Sinopec Group                     Beijing, China   \n",
       "China National Petroleum          Beijing, China   \n",
       "Toyota Motor                       Toyota, Japan   \n",
       "Volkswagen                    Wolfsburg, Germany   \n",
       "Royal Dutch Shell         The Hague, Netherlands   \n",
       "Berkshire Hathaway                     Omaha, NE   \n",
       "Apple                              Cupertino, CA   \n",
       "Exxon Mobil                           Irving, TX   \n",
       "\n",
       "                                                   website  \\\n",
       "Walmart                             http://www.walmart.com   \n",
       "State Grid                          http://www.sgcc.com.cn   \n",
       "Sinopec Group                       http://www.sinopec.com   \n",
       "China National Petroleum            http://www.cnpc.com.cn   \n",
       "Toyota Motor                  http://www.toyota-global.com   \n",
       "Volkswagen                       http://www.volkswagen.com   \n",
       "Royal Dutch Shell                     http://www.shell.com   \n",
       "Berkshire Hathaway        http://www.berkshirehathaway.com   \n",
       "Apple                                 http://www.apple.com   \n",
       "Exxon Mobil                      http://www.exxonmobil.com   \n",
       "\n",
       "                          years_on_global_500_list  employees  \\\n",
       "Walmart                                         23    2300000   \n",
       "State Grid                                      17     926067   \n",
       "Sinopec Group                                   19     713288   \n",
       "China National Petroleum                        17    1512048   \n",
       "Toyota Motor                                    23     364445   \n",
       "Volkswagen                                      23     626715   \n",
       "Royal Dutch Shell                               23      89000   \n",
       "Berkshire Hathaway                              21     367700   \n",
       "Apple                                           15     116000   \n",
       "Exxon Mobil                                     23      72700   \n",
       "\n",
       "                          total_stockholder_equity  \n",
       "Walmart                                      77798  \n",
       "State Grid                                  209456  \n",
       "Sinopec Group                               106523  \n",
       "China National Petroleum                    301893  \n",
       "Toyota Motor                                157210  \n",
       "Volkswagen                                   97753  \n",
       "Royal Dutch Shell                           186646  \n",
       "Berkshire Hathaway                          283001  \n",
       "Apple                                       128249  \n",
       "Exxon Mobil                                 167325  >"
      ]
     },
     "execution_count": 2,
     "metadata": {},
     "output_type": "execute_result"
    }
   ],
   "source": [
    "f500_head = f500.head(10)\n",
    "f500_head.info"
   ]
  },
  {
   "cell_type": "markdown",
   "metadata": {},
   "source": [
    "Subtract the values in the rank column from the values in the previous_rank column. Assign the result to rank_change."
   ]
  },
  {
   "cell_type": "code",
   "execution_count": 3,
   "metadata": {},
   "outputs": [],
   "source": [
    "rank_change = f500['previous_rank'] - f500['rank']\n"
   ]
  },
  {
   "cell_type": "markdown",
   "metadata": {},
   "source": [
    "Use the Series.max() method to find the maximum value for the rank_change series. Assign the result to the variable rank_change_max.\n",
    "Use the Series.min() method to find the minimum value for the rank_change series. Assign the result to the variable rank_change_min.\n",
    "After running your code, use the variable inspector to view the new variable you created."
   ]
  },
  {
   "cell_type": "code",
   "execution_count": 4,
   "metadata": {},
   "outputs": [
    {
     "name": "stdout",
     "output_type": "stream",
     "text": [
      "226\n",
      "-500\n"
     ]
    }
   ],
   "source": [
    "rank_change_max = rank_change.max()\n",
    "rank_change_min = rank_change.min()\n",
    "\n",
    "print(rank_change_max)\n",
    "print(rank_change_min)"
   ]
  },
  {
   "cell_type": "markdown",
   "metadata": {},
   "source": [
    "Return a series of descriptive statistics for the rank column in f500.\n",
    "Select the rank column. Assign it to a variable named rank.\n",
    "Use the Series.describe() method to return a series of statistics for rank. Assign the result to rank_desc.\n",
    "Return a series of descriptive statistics for the previous_rank column in f500.\n",
    "Select the previous_rank column. Assign it to a variable named prev_rank.\n",
    "Use the Series.describe() method to return a series of statistics for prev_rank. Assign the result to prev_rank_desc.\n",
    "After you have run your code, use the variable inspector to view each of the new variables you created. Try to identify any potential issues with the data before moving onto the next screen."
   ]
  },
  {
   "cell_type": "code",
   "execution_count": 5,
   "metadata": {},
   "outputs": [
    {
     "name": "stdout",
     "output_type": "stream",
     "text": [
      "count    500.000000\n",
      "mean     250.500000\n",
      "std      144.481833\n",
      "min        1.000000\n",
      "25%      125.750000\n",
      "50%      250.500000\n",
      "75%      375.250000\n",
      "max      500.000000\n",
      "Name: rank, dtype: float64\n",
      "count    500.000000\n",
      "mean     222.134000\n",
      "std      146.941961\n",
      "min        0.000000\n",
      "25%       92.750000\n",
      "50%      219.500000\n",
      "75%      347.250000\n",
      "max      500.000000\n",
      "Name: previous_rank, dtype: float64\n"
     ]
    }
   ],
   "source": [
    "rank = f500['rank']\n",
    "rank_desc = rank.describe()\n",
    "\n",
    "prev_rank = f500['previous_rank']\n",
    "prev_rank_desc = prev_rank.describe()\n",
    "\n",
    "print(rank_desc)\n",
    "print(prev_rank_desc)"
   ]
  },
  {
   "cell_type": "code",
   "execution_count": 6,
   "metadata": {
    "scrolled": true
   },
   "outputs": [
    {
     "name": "stdout",
     "output_type": "stream",
     "text": [
      "33\n"
     ]
    }
   ],
   "source": [
    "#R table(f500$country)\n",
    "#R sum(fortune$country == 'China')\n",
    "\n",
    "# In the last mission, we also learned how to use Series.loc[] to select just one item from a series by label. For example, in order to select just the counts for China, we would use the following line of code:\n",
    "\n",
    "# print(f500[\"country\"].value_counts().loc[\"China\"])\n",
    "# 109\n",
    "\n",
    "zero_previous_rank = f500['previous_rank'].value_counts().loc[0]\n",
    "\n",
    "#dont forget the () brackets\n",
    "\n",
    "print(zero_previous_rank)"
   ]
  },
  {
   "cell_type": "markdown",
   "metadata": {},
   "source": [
    "Use the DataFrame.max() method to find the maximum value for only the numeric columns from f500 (you may need to check the documentation). Assign the result to the variable max_f500.\n",
    "After running your code, use the variable inspector to view each of the new variables you created. Try to identify any potential issues with the data before moving on to the next screen."
   ]
  },
  {
   "cell_type": "code",
   "execution_count": 7,
   "metadata": {},
   "outputs": [
    {
     "name": "stdout",
     "output_type": "stream",
     "text": [
      "rank                            500.0\n",
      "revenues                     485873.0\n",
      "revenue_change                  442.3\n",
      "profits                       45687.0\n",
      "assets                      3473238.0\n",
      "profit_change                  8909.5\n",
      "previous_rank                   500.0\n",
      "years_on_global_500_list         23.0\n",
      "employees                   2300000.0\n",
      "total_stockholder_equity     301893.0\n",
      "dtype: float64\n"
     ]
    }
   ],
   "source": [
    "max_f500 = f500.max(numeric_only = True)\n",
    "#display the max values for each column (numeric-only values)\n",
    "\n",
    "\n",
    "print(max_f500)"
   ]
  },
  {
   "cell_type": "markdown",
   "metadata": {},
   "source": [
    "One difference is that we need to manually specify if you want to see the statistics for the non-numeric columns. By default, DataFrame.describe() will return statistics for only numeric columns. If we wanted to get just the object columns, we need to use the include=['O'] parameter:\n",
    "\n",
    "print(f500.describe(include=['O']))"
   ]
  },
  {
   "cell_type": "code",
   "execution_count": 8,
   "metadata": {
    "scrolled": true
   },
   "outputs": [
    {
     "name": "stdout",
     "output_type": "stream",
     "text": [
      "              ceo                       industry      sector country  \\\n",
      "count         500                            500         500     500   \n",
      "unique        500                             58          21      34   \n",
      "top     Xu Lirong  Banks: Commercial and Savings  Financials     USA   \n",
      "freq            1                             51         118     132   \n",
      "\n",
      "           hq_location                  website  \n",
      "count              500                      500  \n",
      "unique             235                      500  \n",
      "top     Beijing, China  http://www.generali.com  \n",
      "freq                56                        1  \n"
     ]
    }
   ],
   "source": [
    "print(f500.describe(include=['O']))"
   ]
  },
  {
   "cell_type": "markdown",
   "metadata": {},
   "source": [
    "Return a dataframe of descriptive statistics for all of the numeric columns in f500. Assign the result to f500_desc.\n",
    "After you have run your code, use the variable inspector to view each of the new variables you created. Try to identify any potential issues with the data before moving onto the next screen."
   ]
  },
  {
   "cell_type": "code",
   "execution_count": 9,
   "metadata": {},
   "outputs": [
    {
     "name": "stdout",
     "output_type": "stream",
     "text": [
      "             rank       revenues  revenue_change       profits        assets  \\\n",
      "count  500.000000     500.000000      498.000000    499.000000  5.000000e+02   \n",
      "mean   250.500000   55416.358000        4.538353   3055.203206  2.436323e+05   \n",
      "std    144.481833   45725.478963       28.549067   5171.981071  4.851937e+05   \n",
      "min      1.000000   21609.000000      -67.300000 -13038.000000  3.717000e+03   \n",
      "25%    125.750000   29003.000000       -5.900000    556.950000  3.658850e+04   \n",
      "50%    250.500000   40236.000000        0.550000   1761.600000  7.326150e+04   \n",
      "75%    375.250000   63926.750000        6.975000   3954.000000  1.805640e+05   \n",
      "max    500.000000  485873.000000      442.300000  45687.000000  3.473238e+06   \n",
      "\n",
      "       profit_change  previous_rank  years_on_global_500_list     employees  \\\n",
      "count     436.000000     500.000000                500.000000  5.000000e+02   \n",
      "mean       24.152752     222.134000                 15.036000  1.339983e+05   \n",
      "std       437.509566     146.941961                  7.932752  1.700878e+05   \n",
      "min      -793.700000       0.000000                  1.000000  3.280000e+02   \n",
      "25%       -22.775000      92.750000                  7.000000  4.293250e+04   \n",
      "50%        -0.350000     219.500000                 17.000000  9.291050e+04   \n",
      "75%        17.700000     347.250000                 23.000000  1.689172e+05   \n",
      "max      8909.500000     500.000000                 23.000000  2.300000e+06   \n",
      "\n",
      "       total_stockholder_equity  \n",
      "count                500.000000  \n",
      "mean               30628.076000  \n",
      "std                43642.576833  \n",
      "min               -59909.000000  \n",
      "25%                 7553.750000  \n",
      "50%                15809.500000  \n",
      "75%                37828.500000  \n",
      "max               301893.000000  \n"
     ]
    }
   ],
   "source": [
    "f500_desc = f500.describe()\n",
    "print(f500_desc)"
   ]
  },
  {
   "cell_type": "code",
   "execution_count": 10,
   "metadata": {},
   "outputs": [],
   "source": [
    "f500_desc = f500.describe()\n",
    "# f500.describe(include=['O']) <- for just object columns"
   ]
  },
  {
   "cell_type": "markdown",
   "metadata": {},
   "source": [
    "REASSIGNMENT"
   ]
  },
  {
   "cell_type": "code",
   "execution_count": 11,
   "metadata": {},
   "outputs": [
    {
     "name": "stdout",
     "output_type": "stream",
     "text": [
      "                          rank  revenues\n",
      "Walmart                      1    485873\n",
      "State Grid                   2    315199\n",
      "Sinopec Group                3    267518\n",
      "China National Petroleum     4    262573\n",
      "Toyota Motor                 5    254694\n"
     ]
    }
   ],
   "source": [
    "top5_rank_revenue = f500[[\"rank\", \"revenues\"]].head()\n",
    "print(top5_rank_revenue)"
   ]
  },
  {
   "cell_type": "code",
   "execution_count": 12,
   "metadata": {},
   "outputs": [
    {
     "name": "stdout",
     "output_type": "stream",
     "text": [
      "                          rank  revenues\n",
      "Walmart                      1         0\n",
      "State Grid                   2         0\n",
      "Sinopec Group                3         0\n",
      "China National Petroleum     4         0\n",
      "Toyota Motor                 5         0\n"
     ]
    }
   ],
   "source": [
    "top5_rank_revenue[\"revenues\"] = 0\n",
    "print(top5_rank_revenue)"
   ]
  },
  {
   "cell_type": "code",
   "execution_count": 13,
   "metadata": {
    "scrolled": true
   },
   "outputs": [
    {
     "name": "stdout",
     "output_type": "stream",
     "text": [
      "                          rank  revenues\n",
      "Walmart                      1    485873\n",
      "State Grid                   2    315199\n",
      "Sinopec Group                3    267518\n",
      "China National Petroleum     4    262573\n",
      "Toyota Motor                 5    254694\n"
     ]
    }
   ],
   "source": [
    "top5_rank_revenue = f500[[\"rank\", \"revenues\"]].head()\n",
    "print(top5_rank_revenue)"
   ]
  },
  {
   "cell_type": "markdown",
   "metadata": {},
   "source": [
    "By providing labels for both axes, we can assign them to a single value within our dataframe.\n",
    "\n"
   ]
  },
  {
   "cell_type": "code",
   "execution_count": 14,
   "metadata": {},
   "outputs": [
    {
     "name": "stdout",
     "output_type": "stream",
     "text": [
      "                          rank  revenues\n",
      "Walmart                      1    485873\n",
      "State Grid                   2    315199\n",
      "Sinopec Group                3       999\n",
      "China National Petroleum     4    262573\n",
      "Toyota Motor                 5    254694\n"
     ]
    }
   ],
   "source": [
    "top5_rank_revenue.loc[\"Sinopec Group\", \"revenues\"] = 999 # dont forget the loc\n",
    "print(top5_rank_revenue)"
   ]
  },
  {
   "cell_type": "markdown",
   "metadata": {},
   "source": [
    "The company \"Dow Chemical\" has named a new CEO. Update the value where the row label is Dow Chemical and for the ceo column to Jim Fitterling in the f500 dataframe."
   ]
  },
  {
   "cell_type": "code",
   "execution_count": 15,
   "metadata": {},
   "outputs": [],
   "source": [
    "f500.loc['Dow Chemical','ceo'] = 'Jim Fitterling'"
   ]
  },
  {
   "cell_type": "markdown",
   "metadata": {},
   "source": [
    "Create a boolean series, motor_bool, that compares whether the values in the industry column from the f500 dataframe are equal to \"Motor Vehicles and Parts\".\n",
    "Use the motor_bool boolean series to index the country column. Assign the result to motor_countries.\n",
    "After running your code, use the variable inspector to view each of the new variables you created."
   ]
  },
  {
   "cell_type": "code",
   "execution_count": 16,
   "metadata": {},
   "outputs": [],
   "source": [
    "motor_bool = f500['industry'] == 'Motor Vehicles and Parts'\n",
    "motor_countries = f500.loc[motor_bool,'country'] # motor_bool as the boolean criteria for all rows for that column in motor_bool'industry'"
   ]
  },
  {
   "cell_type": "code",
   "execution_count": 17,
   "metadata": {},
   "outputs": [
    {
     "name": "stdout",
     "output_type": "stream",
     "text": [
      "Toyota Motor                                 Japan\n",
      "Volkswagen                                 Germany\n",
      "Daimler                                    Germany\n",
      "General Motors                                 USA\n",
      "Ford Motor                                     USA\n",
      "Honda Motor                                  Japan\n",
      "SAIC Motor                                   China\n",
      "Nissan Motor                                 Japan\n",
      "BMW Group                                  Germany\n",
      "Dongfeng Motor                               China\n",
      "Robert Bosch                               Germany\n",
      "Hyundai Motor                          South Korea\n",
      "China FAW Group                              China\n",
      "Beijing Automotive Group                     China\n",
      "Peugeot                                     France\n",
      "Renault                                     France\n",
      "Kia Motors                             South Korea\n",
      "Continental                                Germany\n",
      "Denso                                        Japan\n",
      "Guangzhou Automobile Industry Group          China\n",
      "Tata Motors                                  India\n",
      "ZF Friedrichshafen                         Germany\n",
      "Jardine Matheson                             China\n",
      "Magna International                         Canada\n",
      "Volvo                                       Sweden\n",
      "Hyundai Mobis                          South Korea\n",
      "Aisin Seiki                                  Japan\n",
      "Zhejiang Geely Holding Group                 China\n",
      "Subaru                                       Japan\n",
      "Bridgestone                                  Japan\n",
      "Mazda Motor                                  Japan\n",
      "Suzuki Motor                                 Japan\n",
      "Sumitomo Electric Industries                 Japan\n",
      "Michelin                                    France\n",
      "Name: country, dtype: object\n"
     ]
    }
   ],
   "source": [
    "motor_countries1 = f500.loc[f500['industry'] == 'Motor Vehicles and Parts','country'] # chaining\n",
    "\n",
    "print(motor_countries1)\n"
   ]
  },
  {
   "cell_type": "code",
   "execution_count": 18,
   "metadata": {},
   "outputs": [],
   "source": [
    "# This is the most common way to write pandas code to perform assignment using boolean arrays:\n",
    "\n",
    "f500.loc[f500[\"sector\"] == \"Motor Vehicles & Parts\",\"sector\"] = \"Motor Vehicles and Parts\""
   ]
  },
  {
   "cell_type": "markdown",
   "metadata": {},
   "source": [
    "To make comparing the values in this column before and after our operation easier, we've added the following line of code to the script.py codebox:"
   ]
  },
  {
   "cell_type": "code",
   "execution_count": 19,
   "metadata": {},
   "outputs": [],
   "source": [
    "prev_rank_before = f500[\"previous_rank\"].value_counts(dropna=False).head()"
   ]
  },
  {
   "cell_type": "markdown",
   "metadata": {},
   "source": [
    "Use boolean indexing to update values in the previous_rank column of the f500 dataframe:\n",
    "There should now be a value of np.nan where there previously was a value of 0.\n",
    "It is up to you whether you assign the boolean series to its own variable first, or whether you complete the operation in one line.\n",
    "Create a new pandas series, prev_rank_after, using the same syntax that was used to create the prev_rank_before series.\n",
    "After running your code, use the variable inspector to compare prev_rank_before and prev_rank_after."
   ]
  },
  {
   "cell_type": "code",
   "execution_count": 20,
   "metadata": {},
   "outputs": [
    {
     "name": "stdout",
     "output_type": "stream",
     "text": [
      "0      33\n",
      "159     1\n",
      "147     1\n",
      "148     1\n",
      "149     1\n",
      "Name: previous_rank, dtype: int64\n",
      "NaN      33\n",
      "471.0     1\n",
      "234.0     1\n",
      "125.0     1\n",
      "166.0     1\n",
      "Name: previous_rank, dtype: int64\n"
     ]
    }
   ],
   "source": [
    "import numpy as np #boolean <-> numpy\n",
    "prev_rank_before = f500[\"previous_rank\"].value_counts(dropna=False).head()\n",
    "\n",
    "f500.loc[f500['previous_rank'] == 0,'previous_rank'] = np.nan\n",
    "\n",
    "prev_rank_after = f500[\"previous_rank\"].value_counts(dropna=False).head()\n",
    "\n",
    "print(prev_rank_before)\n",
    "print(prev_rank_after)\n"
   ]
  },
  {
   "cell_type": "markdown",
   "metadata": {},
   "source": [
    "When we assign a value or values to a new column label, pandas will create a new column in our dataframe. For example, below we add a new column to a dataframe named top5_rank_revenue:\n",
    "\n",
    "When we assign a value or values to a new column label, pandas will create a new column in our dataframe. For example, below we add a new column to a dataframe named top5_rank_revenue:\n",
    "\n",
    "top5_rank_revenue[\"year_founded\"] = 0\n",
    "print(top5_rank_revenue)"
   ]
  },
  {
   "cell_type": "markdown",
   "metadata": {},
   "source": [
    "Add a new column named rank_change to the f500 dataframe by subtracting the values in the rank column from the values in the previous_rank column.\n",
    "Use the Series.describe() method to return a series of descriptive statistics for the rank_change column. Assign the result to rank_change_desc.\n",
    "After running your code, use the variable inspector to view each of the new variables you created. Verify that the minimum value of the rank_change column is now greater than -500."
   ]
  },
  {
   "cell_type": "code",
   "execution_count": 21,
   "metadata": {},
   "outputs": [
    {
     "name": "stdout",
     "output_type": "stream",
     "text": [
      "count    467.000000\n",
      "mean      -3.533191\n",
      "std       44.293603\n",
      "min     -199.000000\n",
      "25%      -21.000000\n",
      "50%       -2.000000\n",
      "75%       10.000000\n",
      "max      226.000000\n",
      "Name: rank_change, dtype: float64\n"
     ]
    }
   ],
   "source": [
    "f500[\"rank_change\"] = f500[\"previous_rank\"] - f500[\"rank\"] \n",
    "rank_change_desc = f500[\"rank_change\"].describe()\n",
    "\n",
    "print(rank_change_desc)\n",
    "\n",
    "#R f500 <- f500 %>% mutate(rank_change = previous_rank - rank)"
   ]
  },
  {
   "cell_type": "code",
   "execution_count": 22,
   "metadata": {},
   "outputs": [
    {
     "data": {
      "text/plain": [
       "USA             132\n",
       "China           109\n",
       "Japan            51\n",
       "France           29\n",
       "Germany          29\n",
       "Britain          24\n",
       "South Korea      15\n",
       "Switzerland      14\n",
       "Netherlands      14\n",
       "Canada           11\n",
       "Spain             9\n",
       "Italy             7\n",
       "India             7\n",
       "Australia         7\n",
       "Brazil            7\n",
       "Taiwan            6\n",
       "Ireland           4\n",
       "Russia            4\n",
       "Singapore         3\n",
       "Sweden            3\n",
       "Mexico            2\n",
       "Venezuela         1\n",
       "Luxembourg        1\n",
       "Israel            1\n",
       "Indonesia         1\n",
       "Finland           1\n",
       "Belgium           1\n",
       "Saudi Arabia      1\n",
       "U.A.E             1\n",
       "Denmark           1\n",
       "Turkey            1\n",
       "Malaysia          1\n",
       "Norway            1\n",
       "Thailand          1\n",
       "Name: country, dtype: int64"
      ]
     },
     "execution_count": 22,
     "metadata": {},
     "output_type": "execute_result"
    }
   ],
   "source": [
    "f500['country'].value_counts()"
   ]
  },
  {
   "cell_type": "markdown",
   "metadata": {},
   "source": [
    "Create a series, industry_usa, containing counts of the two most common values in the industry column for companies headquartered in the USA.\n",
    "Create a series, sector_china, containing counts of the three most common values in the sector column for companies headquartered in the China."
   ]
  },
  {
   "cell_type": "code",
   "execution_count": 23,
   "metadata": {},
   "outputs": [],
   "source": [
    "industry_usa = f500['industry'][f500['country'] == 'USA'].value_counts().head(2)\n",
    "sector_china = f500['sector'][f500['country'] == 'China'].value_counts().head(3)"
   ]
  }
 ],
 "metadata": {
  "kernelspec": {
   "display_name": "Python 3",
   "language": "python",
   "name": "python3"
  },
  "language_info": {
   "codemirror_mode": {
    "name": "ipython",
    "version": 3
   },
   "file_extension": ".py",
   "mimetype": "text/x-python",
   "name": "python",
   "nbconvert_exporter": "python",
   "pygments_lexer": "ipython3",
   "version": "3.7.6"
  }
 },
 "nbformat": 4,
 "nbformat_minor": 4
}
